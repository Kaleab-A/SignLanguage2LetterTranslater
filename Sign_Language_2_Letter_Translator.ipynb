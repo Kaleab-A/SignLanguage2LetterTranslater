{
  "nbformat": 4,
  "nbformat_minor": 0,
  "metadata": {
    "colab": {
      "name": "Sign Language 2 Letter Translator.ipynb",
      "provenance": [],
      "include_colab_link": true
    },
    "kernelspec": {
      "name": "python3",
      "display_name": "Python 3"
    },
    "language_info": {
      "name": "python"
    },
    "accelerator": "GPU"
  },
  "cells": [
    {
      "cell_type": "markdown",
      "metadata": {
        "id": "view-in-github",
        "colab_type": "text"
      },
      "source": [
        "<a href=\"https://colab.research.google.com/github/Kaleab-A/SignLanguage2LetterTranslater/blob/main/Sign_Language_2_Letter_Translator.ipynb\" target=\"_parent\"><img src=\"https://colab.research.google.com/assets/colab-badge.svg\" alt=\"Open In Colab\"/></a>"
      ]
    },
    {
      "cell_type": "code",
      "source": [
        "! mkdir ~/.kaggle\n",
        "! cp kaggle.json ~/.kaggle/\n",
        "! chmod 600 ~/.kaggle/kaggle.json\n",
        "! kaggle datasets download -d grassknoted/asl-alphabet"
      ],
      "metadata": {
        "colab": {
          "base_uri": "https://localhost:8080/"
        },
        "id": "FreaFrulCPHo",
        "outputId": "4b29ba0c-9941-4da6-8876-f05c5c432c7b"
      },
      "execution_count": null,
      "outputs": [
        {
          "output_type": "stream",
          "name": "stdout",
          "text": [
            "mkdir: cannot create directory ‘/root/.kaggle’: File exists\n",
            "Downloading asl-alphabet.zip to /content\n",
            "100% 1.02G/1.03G [00:06<00:00, 126MB/s]\n",
            "100% 1.03G/1.03G [00:06<00:00, 173MB/s]\n"
          ]
        }
      ]
    },
    {
      "cell_type": "code",
      "source": [
        "from google.colab import drive\n",
        "drive.mount('/content/drive')"
      ],
      "metadata": {
        "colab": {
          "base_uri": "https://localhost:8080/"
        },
        "id": "PBVoHvOKsd4o",
        "outputId": "ded57c56-a8f8-4eae-adc9-3079b9eec83e"
      },
      "execution_count": null,
      "outputs": [
        {
          "output_type": "stream",
          "name": "stdout",
          "text": [
            "Mounted at /content/drive\n"
          ]
        }
      ]
    },
    {
      "cell_type": "code",
      "source": [
        "!unzip \"/content/asl-alphabet.zip\""
      ],
      "metadata": {
        "id": "dKaxve9_b4QT"
      },
      "execution_count": null,
      "outputs": []
    },
    {
      "cell_type": "code",
      "execution_count": null,
      "metadata": {
        "id": "6O8VqaZEbDai"
      },
      "outputs": [],
      "source": [
        "import keras\n",
        "from tensorflow.keras.layers import Dense, Dropout, Activation, Flatten, Conv2D, MaxPooling2D, Lambda, MaxPool2D, BatchNormalization\n",
        "from keras.utils.np_utils import to_categorical\n",
        "from keras import models, layers, optimizers\n",
        "from sklearn.model_selection import train_test_split\n",
        "from tensorflow.keras.optimizers import SGD, RMSprop, Adam, Adagrad, Adadelta, RMSprop\n",
        "from tensorflow.keras.models import Sequential, model_from_json\n",
        "from tensorflow.keras.callbacks import ReduceLROnPlateau, ModelCheckpoint, EarlyStopping\n",
        "import os\n",
        "import matplotlib.pyplot as plt\n",
        "import random\n",
        "import cv2\n",
        "import pandas as pd\n",
        "import numpy as np\n",
        "import seaborn as sns\n",
        "import skimage\n",
        "import csv\n",
        "from tqdm import tqdm\n",
        "from sklearn import model_selection\n",
        "%matplotlib inline"
      ]
    },
    {
      "cell_type": "code",
      "source": [
        "imageSize=50\n",
        "train_dir = \"/content/asl_alphabet_train/asl_alphabet_train/\"\n",
        "test_dir =  \"/content/asl_alphabet_test/asl_alphabet_test/\"\n",
        "def get_data(folder):\n",
        "    \"\"\"\n",
        "    Load the data and labels from the given folder.\n",
        "    \"\"\"\n",
        "    X = []\n",
        "    y = []\n",
        "    for folderName in os.listdir(folder):\n",
        "        if not folderName.startswith('.'):\n",
        "            if folderName in ['A']:\n",
        "                label = 0\n",
        "            elif folderName in ['B']:\n",
        "                label = 1\n",
        "            elif folderName in ['C']:\n",
        "                label = 2\n",
        "            elif folderName in ['D']:\n",
        "                label = 3\n",
        "            elif folderName in ['E']:\n",
        "                label = 4\n",
        "            elif folderName in ['F']:\n",
        "                label = 5\n",
        "            elif folderName in ['G']:\n",
        "                label = 6\n",
        "            elif folderName in ['H']:\n",
        "                label = 7\n",
        "            elif folderName in ['I']:\n",
        "                label = 8\n",
        "            elif folderName in ['J']:\n",
        "                label = 9\n",
        "            elif folderName in ['K']:\n",
        "                label = 10\n",
        "            elif folderName in ['L']:\n",
        "                label = 11\n",
        "            elif folderName in ['M']:\n",
        "                label = 12\n",
        "            elif folderName in ['N']:\n",
        "                label = 13\n",
        "            elif folderName in ['O']:\n",
        "                label = 14\n",
        "            elif folderName in ['P']:\n",
        "                label = 15\n",
        "            elif folderName in ['Q']:\n",
        "                label = 16\n",
        "            elif folderName in ['R']:\n",
        "                label = 17\n",
        "            elif folderName in ['S']:\n",
        "                label = 18\n",
        "            elif folderName in ['T']:\n",
        "                label = 19\n",
        "            elif folderName in ['U']:\n",
        "                label = 20\n",
        "            elif folderName in ['V']:\n",
        "                label = 21\n",
        "            elif folderName in ['W']:\n",
        "                label = 22\n",
        "            elif folderName in ['X']:\n",
        "                label = 23\n",
        "            elif folderName in ['Y']:\n",
        "                label = 24\n",
        "            elif folderName in ['Z']:\n",
        "                label = 25\n",
        "            elif folderName in ['del']:\n",
        "                label = 26\n",
        "            elif folderName in ['nothing']:\n",
        "                label = 27\n",
        "            elif folderName in ['space']:\n",
        "                label = 28           \n",
        "            else:\n",
        "                label = 29\n",
        "            for image_filename in tqdm(os.listdir(folder + folderName)):\n",
        "                img_file = cv2.imread(folder + folderName + '/' + image_filename)\n",
        "                if img_file is not None:\n",
        "                    img_file = skimage.transform.resize(img_file, (imageSize, imageSize, 3))\n",
        "                    img_arr = np.asarray(img_file)\n",
        "                    X.append(img_arr)\n",
        "                    y.append(label)\n",
        "    X = np.asarray(X)\n",
        "    y = np.asarray(y)\n",
        "    return X,y\n",
        "X_train, y_train = get_data(train_dir) \n",
        "#X_test, y_test= get_data(test_dir) # Too few images\n",
        "\n",
        "X_train, X_test, y_train, y_test = train_test_split(X_train, y_train, test_size=0.2) \n",
        "\n",
        "# Encode labels to hot vectors (ex : 2 -> [0,0,1,0,0,0,0,0,0,0])\n",
        "y_trainHot = to_categorical(y_train, num_classes = 30)\n",
        "y_testHot = to_categorical(y_test, num_classes = 30)"
      ],
      "metadata": {
        "id": "xn8V5VZtblkW"
      },
      "execution_count": null,
      "outputs": []
    },
    {
      "cell_type": "code",
      "source": [
        "!cp \"/content/drive/MyDrive/Google Colab Files/X_test.npy\" \"/content/\"\n",
        "!cp \"/content/drive/MyDrive/Google Colab Files/X_train.npy\" \"/content/\"\n",
        "!cp \"/content/drive/MyDrive/Google Colab Files/y_trainHot.npy\" \"/content/\"\n",
        "!cp \"/content/drive/MyDrive/Google Colab Files/y_testHot.npy\" \"/content/\""
      ],
      "metadata": {
        "id": "wA2QugV1sm9B"
      },
      "execution_count": null,
      "outputs": []
    },
    {
      "cell_type": "code",
      "source": [
        "X_train = np.load(\"X_train.npy\")"
      ],
      "metadata": {
        "id": "dI5Gf9PjlKVs"
      },
      "execution_count": null,
      "outputs": []
    },
    {
      "cell_type": "code",
      "source": [
        "X_test = np.load(\"X_test.npy\")\n",
        "y_trainHot = np.load(\"y_trainHot.npy\")\n",
        "y_testHot = np.load(\"y_testHot.npy\")\n"
      ],
      "metadata": {
        "id": "9xo4VGMFlQZw"
      },
      "execution_count": null,
      "outputs": []
    },
    {
      "cell_type": "code",
      "source": [
        "def model_vgg3():\n",
        "    model = Sequential()\n",
        "    model.add(Conv2D(filters=32, kernel_size=3, padding='same', activation='relu', kernel_initializer=\"he_uniform\", input_shape=(50, 50, 3)))\n",
        "    model.add(Conv2D(filters=32, kernel_size=3, padding='same', activation='relu', kernel_initializer=\"he_uniform\"))\n",
        "    model.add(MaxPooling2D(pool_size=2))\n",
        "    # model.add(Dropout(0.2))\n",
        "\n",
        "    model.add(Conv2D(filters=64, kernel_size=3, padding='same', activation='relu', kernel_initializer=\"he_uniform\"))\n",
        "    model.add(Conv2D(filters=64, kernel_size=3, padding='same', activation='relu', kernel_initializer=\"he_uniform\"))\n",
        "    model.add(MaxPooling2D(pool_size=2))\n",
        "    # model.add(Dropout(0.3))\n",
        "\n",
        "    model.add(Conv2D(filters=128, kernel_size=3, padding='same', activation='relu', kernel_initializer=\"he_uniform\"))\n",
        "    model.add(Conv2D(filters=128, kernel_size=3, padding='same', activation='relu', kernel_initializer=\"he_uniform\"))\n",
        "    model.add(MaxPooling2D(pool_size=2))\n",
        "    # model.add(Dropout(0.4))\n",
        "\n",
        "    model.add(Flatten())\n",
        "    model.add(Dense(128, activation='relu'))\n",
        "    # model.add(Dropout(0.5))\n",
        "    model.add(Dense(30, activation='softmax'))\n",
        "\n",
        "    model.compile(optimizer='adam', loss='categorical_crossentropy', metrics=[\"accuracy\"])\n",
        "    return model    \n"
      ],
      "metadata": {
        "id": "RLcXPtHv26dL"
      },
      "execution_count": null,
      "outputs": []
    },
    {
      "cell_type": "code",
      "source": [
        "filePath = \"vgg3_adam_sparse.hdf5\""
      ],
      "metadata": {
        "id": "xmHLyll_jXV7"
      },
      "execution_count": null,
      "outputs": []
    },
    {
      "cell_type": "code",
      "source": [
        "print(X_train.shape, y_trainHot.shape)"
      ],
      "metadata": {
        "colab": {
          "base_uri": "https://localhost:8080/"
        },
        "id": "Y-IxiLuGkJ0-",
        "outputId": "64df8fb2-537a-454c-c2e6-62761a2ec8a2"
      },
      "execution_count": null,
      "outputs": [
        {
          "output_type": "stream",
          "name": "stdout",
          "text": [
            "(69600, 50, 50, 3) (69600, 30)\n"
          ]
        }
      ]
    },
    {
      "cell_type": "code",
      "source": [
        "model = model_vgg3()\n",
        "stop_early = EarlyStopping(monitor=\"val_loss\", patience=5)\n",
        "\n",
        "checkpointer = ModelCheckpoint(filepath=filePath, verbose=1, \n",
        "                            save_best_only=True)\n",
        "hist = model.fit(X_train, y_trainHot, batch_size=64, epochs=20, validation_split=0.2, callbacks=[checkpointer, stop_early], shuffle=True)"
      ],
      "metadata": {
        "colab": {
          "base_uri": "https://localhost:8080/"
        },
        "id": "1ZmWshZbi0SK",
        "outputId": "3215fe1b-0829-44dd-8a0a-17f11dbfdeeb"
      },
      "execution_count": null,
      "outputs": [
        {
          "output_type": "stream",
          "name": "stdout",
          "text": [
            "Epoch 1/20\n",
            "869/870 [============================>.] - ETA: 0s - loss: 1.1505 - accuracy: 0.6509\n",
            "Epoch 1: val_loss improved from inf to 0.23805, saving model to vgg3_adam_sparse.hdf5\n",
            "870/870 [==============================] - 59s 55ms/step - loss: 1.1495 - accuracy: 0.6513 - val_loss: 0.2380 - val_accuracy: 0.9223\n",
            "Epoch 2/20\n",
            "870/870 [==============================] - ETA: 0s - loss: 0.0983 - accuracy: 0.9678\n",
            "Epoch 2: val_loss improved from 0.23805 to 0.04930, saving model to vgg3_adam_sparse.hdf5\n",
            "870/870 [==============================] - 45s 52ms/step - loss: 0.0983 - accuracy: 0.9678 - val_loss: 0.0493 - val_accuracy: 0.9828\n",
            "Epoch 3/20\n",
            "870/870 [==============================] - ETA: 0s - loss: 0.0482 - accuracy: 0.9850\n",
            "Epoch 3: val_loss improved from 0.04930 to 0.02533, saving model to vgg3_adam_sparse.hdf5\n",
            "870/870 [==============================] - 48s 55ms/step - loss: 0.0482 - accuracy: 0.9850 - val_loss: 0.0253 - val_accuracy: 0.9920\n",
            "Epoch 4/20\n",
            "869/870 [============================>.] - ETA: 0s - loss: 0.0307 - accuracy: 0.9903\n",
            "Epoch 4: val_loss improved from 0.02533 to 0.02226, saving model to vgg3_adam_sparse.hdf5\n",
            "870/870 [==============================] - 46s 53ms/step - loss: 0.0306 - accuracy: 0.9903 - val_loss: 0.0223 - val_accuracy: 0.9940\n",
            "Epoch 5/20\n",
            "869/870 [============================>.] - ETA: 0s - loss: 0.0208 - accuracy: 0.9940\n",
            "Epoch 5: val_loss improved from 0.02226 to 0.00979, saving model to vgg3_adam_sparse.hdf5\n",
            "870/870 [==============================] - 46s 53ms/step - loss: 0.0208 - accuracy: 0.9941 - val_loss: 0.0098 - val_accuracy: 0.9970\n",
            "Epoch 6/20\n",
            "870/870 [==============================] - ETA: 0s - loss: 0.0217 - accuracy: 0.9934\n",
            "Epoch 6: val_loss improved from 0.00979 to 0.00829, saving model to vgg3_adam_sparse.hdf5\n",
            "870/870 [==============================] - 46s 53ms/step - loss: 0.0217 - accuracy: 0.9934 - val_loss: 0.0083 - val_accuracy: 0.9973\n",
            "Epoch 7/20\n",
            "870/870 [==============================] - ETA: 0s - loss: 0.0226 - accuracy: 0.9929\n",
            "Epoch 7: val_loss did not improve from 0.00829\n",
            "870/870 [==============================] - 46s 53ms/step - loss: 0.0226 - accuracy: 0.9929 - val_loss: 0.0177 - val_accuracy: 0.9952\n",
            "Epoch 8/20\n",
            "869/870 [============================>.] - ETA: 0s - loss: 0.0130 - accuracy: 0.9961\n",
            "Epoch 8: val_loss did not improve from 0.00829\n",
            "870/870 [==============================] - 46s 52ms/step - loss: 0.0130 - accuracy: 0.9961 - val_loss: 0.0241 - val_accuracy: 0.9928\n",
            "Epoch 9/20\n",
            "869/870 [============================>.] - ETA: 0s - loss: 0.0157 - accuracy: 0.9952\n",
            "Epoch 9: val_loss did not improve from 0.00829\n",
            "870/870 [==============================] - 46s 53ms/step - loss: 0.0165 - accuracy: 0.9952 - val_loss: 0.0393 - val_accuracy: 0.9892\n",
            "Epoch 10/20\n",
            "869/870 [============================>.] - ETA: 0s - loss: 0.0142 - accuracy: 0.9958\n",
            "Epoch 10: val_loss did not improve from 0.00829\n",
            "870/870 [==============================] - 46s 53ms/step - loss: 0.0143 - accuracy: 0.9958 - val_loss: 0.0343 - val_accuracy: 0.9892\n",
            "Epoch 11/20\n",
            "870/870 [==============================] - ETA: 0s - loss: 0.0141 - accuracy: 0.9957\n",
            "Epoch 11: val_loss did not improve from 0.00829\n",
            "870/870 [==============================] - 46s 52ms/step - loss: 0.0141 - accuracy: 0.9957 - val_loss: 0.0337 - val_accuracy: 0.9889\n"
          ]
        }
      ]
    },
    {
      "cell_type": "code",
      "source": [
        "model.evaluate(X_test, y_testHot)"
      ],
      "metadata": {
        "id": "Xirse7EJjvhK",
        "colab": {
          "base_uri": "https://localhost:8080/"
        },
        "outputId": "0904faab-2bfc-458f-a0bd-bc9bf7814831"
      },
      "execution_count": null,
      "outputs": [
        {
          "output_type": "stream",
          "name": "stdout",
          "text": [
            "544/544 [==============================] - 7s 13ms/step - loss: 0.0354 - accuracy: 0.9874\n"
          ]
        },
        {
          "output_type": "execute_result",
          "data": {
            "text/plain": [
              "[0.03535397723317146, 0.9873563051223755]"
            ]
          },
          "metadata": {},
          "execution_count": 11
        }
      ]
    },
    {
      "cell_type": "code",
      "source": [
        ""
      ],
      "metadata": {
        "id": "iK8dOTg1I8eH"
      },
      "execution_count": null,
      "outputs": []
    }
  ]
}